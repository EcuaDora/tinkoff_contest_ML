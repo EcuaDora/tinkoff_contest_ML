{
 "cells": [
  {
   "cell_type": "markdown",
   "source": [
    "Задача 1"
   ],
   "metadata": {
    "collapsed": false
   },
   "id": "25ed9bcacde45394"
  },
  {
   "cell_type": "code",
   "outputs": [],
   "source": [
    "# Считываем размеры матрицы\n",
    "n, m = map(int, input().split())\n",
    "\n",
    "# Создаем пустую матрицу для хранения входных данных\n",
    "matrix = []\n",
    "\n",
    "# Считываем входные данные и заполняем матрицу\n",
    "for _ in range(n):\n",
    "    row = list(map(int, input().split()))\n",
    "    matrix.append(row)\n",
    "\n",
    "# Транспонируем матрицу (меняем местами строки и столбцы)\n",
    "transposed_matrix = list(zip(*matrix))\n",
    "\n",
    "# Выводим транспонированную матрицу, при этом развернув каждую строку в обратном порядке\n",
    "for row in transposed_matrix:\n",
    "    print(*row[::-1])\n"
   ],
   "metadata": {
    "collapsed": true
   },
   "id": "initial_id",
   "execution_count": 0
  },
  {
   "cell_type": "markdown",
   "source": [
    "задача 2\n"
   ],
   "metadata": {
    "collapsed": false
   },
   "id": "a6537eab094d40b5"
  },
  {
   "cell_type": "code",
   "outputs": [],
   "source": [
    "# Считываем размеры матрицы и направление поворота\n",
    "n, direction = input().split()\n",
    "n = int(n)\n",
    "\n",
    "# Создаем пустую матрицу для хранения входных данных\n",
    "input_matrix = []\n",
    "\n",
    "# Считываем входные данные и заполняем матрицу\n",
    "for _ in range(n):\n",
    "    row = list(map(int, input().split()))\n",
    "    input_matrix.append(row)\n",
    "\n",
    "# Создаем пустую матрицу для хранения результата поворота\n",
    "rotated_matrix = []\n",
    "\n",
    "# Выполняем поворот матрицы в зависимости от направления\n",
    "if direction == \"R\":\n",
    "    for j in range(len(input_matrix[0])):\n",
    "        rotated_row = []\n",
    "        for i in range(len(input_matrix) - 1, -1, -1):\n",
    "            rotated_row.append(input_matrix[i][j])\n",
    "        rotated_matrix.append(rotated_row)\n",
    "elif direction == \"L\":\n",
    "    for j in range(len(input_matrix[0]) - 1, -1, -1):\n",
    "        rotated_row = []\n",
    "        for i in range(len(input_matrix)):\n",
    "            rotated_row.append(input_matrix[i][j])\n",
    "        rotated_matrix.append(rotated_row)\n",
    "\n",
    "# Выводим результат поворота матрицы\n",
    "for row in rotated_matrix:\n",
    "    print(*row)\n",
    "\n",
    "# Сравниваем и подсчитываем количество различных элементов\n",
    "different_elements_count = 0\n",
    "for i in range(n):\n",
    "    for j in range(n):\n",
    "        if input_matrix[i][j] != rotated_matrix[i][j]:\n",
    "            different_elements_count += 1\n",
    "\n",
    "print(\"Количество различных элементов во входной и полученной матрицах:\", different_elements_count)\n",
    "\n",
    "# Сохраняем входную и полученную матрицы в удобном для перебора виде\n",
    "print(\"Входная матрица:\")\n",
    "for row in input_matrix:\n",
    "    print(*row)\n",
    "\n",
    "print(\"Полученная матрица:\")\n",
    "for row in rotated_matrix:\n",
    "    print(*row)\n"
   ],
   "metadata": {
    "collapsed": false
   },
   "id": "55d0785a69c4f4a3"
  },
  {
   "cell_type": "code",
   "outputs": [],
   "source": [
    "# Считываем размеры матрицы и направление поворота\n",
    "n, direction = input().split()\n",
    "n = int(n)\n",
    "\n",
    "# Создаем пустую матрицу для хранения входных данных\n",
    "matrix = []\n",
    "\n",
    "# Считываем входные данные и заполняем матрицу\n",
    "for _ in range(n):\n",
    "    row = list(map(int, input().split()))\n",
    "    matrix.append(row)\n",
    "\n",
    "# Создаем пустую матрицу для хранения результата поворота\n",
    "rotated_matrix = []\n",
    "\n",
    "# Выполняем поворот матрицы в зависимости от направления\n",
    "if direction == \"R\":\n",
    "    for j in range(len(matrix[0])):\n",
    "        rotated_row = []\n",
    "        for i in range(len(matrix) - 1, -1, -1):\n",
    "            rotated_row.append(matrix[i][j])\n",
    "        rotated_matrix.append(rotated_row)\n",
    "elif direction == \"L\":\n",
    "    for j in range(len(matrix[0]) - 1, -1, -1):\n",
    "        rotated_row = []\n",
    "        for i in range(len(matrix)):\n",
    "            rotated_row.append(matrix[i][j])\n",
    "        rotated_matrix.append(rotated_row)\n",
    "else:\n",
    "    print(\"Некорректное направление вращения. Введите 'R' для часовой стрелки или 'L' для против часовой стрелки.\")\n",
    "    exit()\n",
    "\n",
    "# Считаем количество перемещений и выводим координаты перемещений\n",
    "moves = 0\n",
    "for i in range(n):\n",
    "    for j in range(n):\n",
    "        if matrix[i][j] != rotated_matrix[i][j]:\n",
    "            moves += 1\n",
    "            print(i, j, i if direction == \"R\" else (n - 1 - i), j if direction == \"R\" else (n - 1 - j))\n",
    "\n",
    "print(\"Количество перемещений:\", moves)"
   ],
   "metadata": {
    "collapsed": false
   },
   "id": "1ccf9df30af4490"
  },
  {
   "cell_type": "code",
   "outputs": [],
   "source": [
    "# Список для хранения координат замен\n",
    "replacements_coordinates = []\n",
    "\n",
    "# Перебираем строки и столбцы исходной и перевернутой матриц\n",
    "for i in range(n):\n",
    "    for j in range(n):\n",
    "        # Проверяем значения в соответствующих ячейках\n",
    "        if matrix[i][j] != rotated_matrix[i][j]:\n",
    "            # Добавляем координаты замены в список\n",
    "            replacements_coordinates.append((i, j))\n",
    "\n",
    "# Выводим координаты замен\n",
    "print(\"Координаты замен, где значения отличаются:\")\n",
    "for coord in replacements_coordinates:\n",
    "    print(\"Строка:\", coord[0], \"Столбец:\", coord[1])\n"
   ],
   "metadata": {
    "collapsed": false
   },
   "id": "b9f1cfe589a60696"
  },
  {
   "cell_type": "markdown",
   "source": [
    "Задача 3"
   ],
   "metadata": {
    "collapsed": false
   },
   "id": "96a31b01b448c620"
  },
  {
   "cell_type": "code",
   "outputs": [],
   "source": [
    "def max_mushrooms(n, forest):\n",
    "    max_mushrooms = 0\n",
    "\n",
    "    for j in range(3):\n",
    "        k = j\n",
    "\n",
    "        mushrooms_collected = 0  \n",
    "        for i in range(n):\n",
    "            if forest[i][k] == 'C':\n",
    "                mushrooms_collected += 1  \n",
    "\n",
    "            next_level_cells = []\n",
    "            if i < n - 1:\n",
    "                if k > 0:\n",
    "                    next_level_cells.append(forest[i + 1][k - 1] if k - 1 >= 0 else None)\n",
    "                next_level_cells.append(forest[i + 1][k])\n",
    "                if k < 2:\n",
    "                    next_level_cells.append(forest[i + 1][k + 1] if k + 1 < len(forest[i + 1]) else None)\n",
    "\n",
    "            next_k = None\n",
    "            for idx, cell in enumerate(next_level_cells):\n",
    "                if cell == 'C':\n",
    "                    next_k = idx\n",
    "                    break\n",
    "\n",
    "            if next_k is not None:\n",
    "                k = next_k\n",
    "\n",
    "            max_mushrooms = max(max_mushrooms, mushrooms_collected)\n",
    "\n",
    "    return max_mushrooms\n",
    "\n",
    "n = int(input())\n",
    "forest = [input() for i in range(n)]\n",
    "\n",
    "result = max_mushrooms(n, forest)\n",
    "print( result)"
   ],
   "metadata": {
    "collapsed": false
   },
   "id": "32b7a354f41477f9"
  },
  {
   "cell_type": "markdown",
   "source": [
    "Задача 4"
   ],
   "metadata": {
    "collapsed": false
   },
   "id": "c20fa364c164d117"
  },
  {
   "cell_type": "code",
   "outputs": [],
   "source": [
    "def print_directories(n, directories):\n",
    "    directory_tree = {}\n",
    "\n",
    "    for path in directories:\n",
    "        parts = path.split('/')\n",
    "        current_level = directory_tree\n",
    "        for part in parts:\n",
    "            if part not in current_level:\n",
    "                current_level[part] = {}\n",
    "            current_level = current_level[part]\n",
    "            \n",
    "    def print_tree(directory_tree, indent=0):\n",
    "            for directory, subtree in sorted(directory_tree.items()):\n",
    "                print('  ' * indent + directory)\n",
    "                if subtree:\n",
    "                    print_tree(subtree, indent  + 1)\n",
    "    print_tree(directory_tree)\n",
    "    \n",
    "n = int(input())\n",
    "directories = [input() for _ in range(n)]\n",
    "\n",
    "print_directories(n, directories)\n"
   ],
   "metadata": {
    "collapsed": false
   },
   "id": "3a58ff02cd05b232"
  },
  {
   "cell_type": "markdown",
   "source": [
    "Задача 5"
   ],
   "metadata": {
    "collapsed": false
   },
   "id": "c1ad9be2634e5e8c"
  },
  {
   "cell_type": "code",
   "outputs": [],
   "source": [
    "def max_five_sequence(n, grades):\n",
    "    max_fives = 0  \n",
    "    current_fives = 0 \n",
    "    window_size = 7  \n",
    "\n",
    "    for i in range(n - window_size + 1):\n",
    "         if 2 not in grades[i:i+window_size] and 3 not in grades[i:i+window_size]:\n",
    "            current_fives = grades[i:i+window_size].count(5)\n",
    "            max_fives = max(max_fives, current_fives)\n",
    "\n",
    "    if max_fives > 0:\n",
    "        return max_fives\n",
    "    else:\n",
    "        return -1\n",
    "\n",
    "n = int(input())\n",
    "grades = list(map(int, input().split()))\n",
    "\n",
    "print(max_five_sequence(n, grades))"
   ],
   "metadata": {
    "collapsed": false
   },
   "id": "c78a25f2e8f76ca8"
  },
  {
   "cell_type": "markdown",
   "source": [
    "Задача 6"
   ],
   "metadata": {
    "collapsed": false
   },
   "id": "1037ec897290f703"
  },
  {
   "cell_type": "code",
   "outputs": [],
   "source": [
    "from collections import deque\n",
    "\n",
    "def initialize_board():\n",
    "    board = []\n",
    "    start = (-1, -1)\n",
    "    end = (-1, -1)\n",
    "    for i in range(n):\n",
    "        row = input()\n",
    "        if \"S\" in row:\n",
    "            start = (i, row.index(\"S\"))\n",
    "        elif \"F\" in row:\n",
    "            end = (i, row.index(\"F\"))\n",
    "        board.append(row)\n",
    "    return board, start, end\n",
    "\n",
    "def get_directions():\n",
    "    return {\n",
    "        \"K\": {(-2, -1), (-1, -2), (1, -2), (2, -1), (2, 1), (1, 2), (-1, 2), (-2, 1)},\n",
    "        \"G\": {(-1, -1), (0, -1), (1, -1), (1, 0), (1, 1), (0, 1), (-1, 1), (-1, 0)}\n",
    "    }\n",
    "\n",
    "def num_of_steps():\n",
    "    queue = deque([(start, \"K\")])\n",
    "    dist = 0\n",
    "    while queue:\n",
    "        dist += 1\n",
    "        for _ in range(len(queue)):\n",
    "            pos, state = queue.popleft()\n",
    "            cur_i, cur_j = pos\n",
    "            for di, dj in direction[state]:\n",
    "                i, j = cur_i + di, cur_j + dj\n",
    "                if not (0 <= i < n and 0 <= j < n and (i, j) not in visited[state]):\n",
    "                    continue\n",
    "                if (i, j) == end:\n",
    "                    return dist\n",
    "                next_state = board[i][j] if board[i][j] not in (\".\", \"S\") else state\n",
    "                queue.append(((i, j), next_state))\n",
    "                visited[next_state].add((i, j))\n",
    "    return -1\n",
    "\n",
    "\n",
    "n = int(input())\n",
    "board, start, end = initialize_board()\n",
    "direction = get_directions()\n",
    "\n",
    "visited = {\"K\": {start}, \"G\": set()}\n",
    "\n",
    "result = num_of_steps()\n",
    "print(result)\n"
   ],
   "metadata": {
    "collapsed": false
   },
   "id": "c54aeb7ab3348e7"
  }
 ],
 "metadata": {
  "kernelspec": {
   "display_name": "Python 3",
   "language": "python",
   "name": "python3"
  },
  "language_info": {
   "codemirror_mode": {
    "name": "ipython",
    "version": 2
   },
   "file_extension": ".py",
   "mimetype": "text/x-python",
   "name": "python",
   "nbconvert_exporter": "python",
   "pygments_lexer": "ipython2",
   "version": "2.7.6"
  }
 },
 "nbformat": 4,
 "nbformat_minor": 5
}
